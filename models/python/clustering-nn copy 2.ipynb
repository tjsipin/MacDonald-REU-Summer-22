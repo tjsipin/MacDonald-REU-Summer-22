version https://git-lfs.github.com/spec/v1
oid sha256:38e120bb4db4627048b71dfebf3152aa27c44e0b30445d994814d689fff8dc46
size 261244
