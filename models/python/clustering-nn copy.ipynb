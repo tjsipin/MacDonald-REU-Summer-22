version https://git-lfs.github.com/spec/v1
oid sha256:333bc9449e803c6b99d700cd2d659c319806626eea29e0b492f6b85475442936
size 261358
