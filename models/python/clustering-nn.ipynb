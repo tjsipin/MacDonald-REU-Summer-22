version https://git-lfs.github.com/spec/v1
oid sha256:ced06a74acc159f6dd1713ee1d6622747c9bd8426d241cd8dd452731d3dbe1b2
size 180679
