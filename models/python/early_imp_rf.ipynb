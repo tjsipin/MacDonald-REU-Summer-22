version https://git-lfs.github.com/spec/v1
oid sha256:e06da9452b385ece3a17896d3abbf3e7b0d9c5f634d08eb9a119b544cfe03136
size 50775
