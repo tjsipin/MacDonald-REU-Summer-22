version https://git-lfs.github.com/spec/v1
oid sha256:d689f7a331a100b36aa4abbec8aad7e169ba6769c20fe0e4e329fd5c0ddd1daa
size 24736
