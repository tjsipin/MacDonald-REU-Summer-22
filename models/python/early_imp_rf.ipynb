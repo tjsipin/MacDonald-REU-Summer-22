version https://git-lfs.github.com/spec/v1
oid sha256:30a0d9a644992757a895b5461cc8ace562fe9b817169d9feb4703693b7fdb2d8
size 52023
