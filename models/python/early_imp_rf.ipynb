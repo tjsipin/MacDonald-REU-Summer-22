version https://git-lfs.github.com/spec/v1
oid sha256:05c814ec43f4aacd74291c0af4480ca20ecf9fe7a40617b9b41ae5c764f9f814
size 50795
