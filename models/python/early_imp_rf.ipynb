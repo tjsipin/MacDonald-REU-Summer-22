version https://git-lfs.github.com/spec/v1
oid sha256:68e6e3508b78878825c5d29b245d5456f33442fc49ea2495065b70b5d215c404
size 52223
