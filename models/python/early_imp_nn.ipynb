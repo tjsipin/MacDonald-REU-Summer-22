{
 "cells": [
  {
   "cell_type": "code",
   "execution_count": 1,
   "metadata": {},
   "outputs": [],
   "source": [
    "import tensorflow as tf\n",
    "from tensorflow import keras\n",
    "\n",
    "import os\n",
    "import tempfile\n",
    "\n",
    "import matplotlib as mpl\n",
    "from matplotlib import pyplot as plt\n",
    "import numpy as np\n",
    "import pandas as pd\n",
    "import seaborn as sns\n",
    "\n",
    "import sklearn\n",
    "from sklearn.metrics import confusion_matrix\n",
    "from sklearn.model_selection import train_test_split\n",
    "from sklearn.preprocessing import StandardScaler"
   ]
  },
  {
   "cell_type": "code",
   "execution_count": 2,
   "metadata": {},
   "outputs": [
    {
     "data": {
      "text/plain": [
       "Time      47488.145955\n",
       "V1            1.958696\n",
       "V2            1.651309\n",
       "V3            1.516255\n",
       "V4            1.415869\n",
       "V5            1.380247\n",
       "V6            1.332271\n",
       "V7            1.237094\n",
       "V8            1.194353\n",
       "V9            1.098632\n",
       "V10           1.088850\n",
       "V11           1.020713\n",
       "V12           0.999201\n",
       "V13           0.995274\n",
       "V14           0.958596\n",
       "V15           0.915316\n",
       "V16           0.876253\n",
       "V17           0.849337\n",
       "V18           0.838176\n",
       "V19           0.814041\n",
       "V20           0.770925\n",
       "V21           0.734524\n",
       "V22           0.725702\n",
       "V23           0.624460\n",
       "V24           0.605647\n",
       "V25           0.521278\n",
       "V26           0.482227\n",
       "V27           0.403632\n",
       "V28           0.330083\n",
       "Amount      250.120109\n",
       "Class         0.041527\n",
       "dtype: float64"
      ]
     },
     "execution_count": 2,
     "metadata": {},
     "output_type": "execute_result"
    }
   ],
   "source": [
    "pd.read_csv('https://storage.googleapis.com/download.tensorflow.org/data/creditcard.csv').std()"
   ]
  },
  {
   "cell_type": "code",
   "execution_count": 3,
   "metadata": {},
   "outputs": [],
   "source": [
    "mpl.rcParams['figure.figsize'] = (12,10)\n",
    "colors = plt.rcParams['axes.prop_cycle'].by_key()['color']"
   ]
  },
  {
   "cell_type": "code",
   "execution_count": 4,
   "metadata": {},
   "outputs": [
    {
     "data": {
      "text/html": [
       "<div>\n",
       "<style scoped>\n",
       "    .dataframe tbody tr th:only-of-type {\n",
       "        vertical-align: middle;\n",
       "    }\n",
       "\n",
       "    .dataframe tbody tr th {\n",
       "        vertical-align: top;\n",
       "    }\n",
       "\n",
       "    .dataframe thead th {\n",
       "        text-align: right;\n",
       "    }\n",
       "</style>\n",
       "<table border=\"1\" class=\"dataframe\">\n",
       "  <thead>\n",
       "    <tr style=\"text-align: right;\">\n",
       "      <th></th>\n",
       "      <th>Year</th>\n",
       "      <th>Country</th>\n",
       "      <th>Population</th>\n",
       "      <th>Cutaneous.Leishmaniasis</th>\n",
       "      <th>Dengue</th>\n",
       "      <th>Malaria</th>\n",
       "      <th>Mucosal.Leishmaniasis</th>\n",
       "      <th>Visceral.Leishmaniasis</th>\n",
       "      <th>Yellow.Fever</th>\n",
       "      <th>LST_Day</th>\n",
       "      <th>...</th>\n",
       "      <th>Dengue_Aeg_OptTemp</th>\n",
       "      <th>Chik_Alb_OptTemp</th>\n",
       "      <th>Chik_Aeg_OptTemp</th>\n",
       "      <th>Zika_OptTemp</th>\n",
       "      <th>Malaria_OptTemp</th>\n",
       "      <th>NDVI</th>\n",
       "      <th>EVI</th>\n",
       "      <th>Precip</th>\n",
       "      <th>StableLights</th>\n",
       "      <th>SWOccurrence</th>\n",
       "    </tr>\n",
       "  </thead>\n",
       "  <tbody>\n",
       "    <tr>\n",
       "      <th>0</th>\n",
       "      <td>2007</td>\n",
       "      <td>Colombia</td>\n",
       "      <td>1801730</td>\n",
       "      <td>0.000555</td>\n",
       "      <td>0.002775</td>\n",
       "      <td>0.002220</td>\n",
       "      <td>0.00000</td>\n",
       "      <td>0.0</td>\n",
       "      <td>0.0</td>\n",
       "      <td>24.086593</td>\n",
       "      <td>...</td>\n",
       "      <td>0</td>\n",
       "      <td>14</td>\n",
       "      <td>0</td>\n",
       "      <td>0</td>\n",
       "      <td>22</td>\n",
       "      <td>0.500981</td>\n",
       "      <td>0.304495</td>\n",
       "      <td>2087.610085</td>\n",
       "      <td>37.972903</td>\n",
       "      <td>17.033807</td>\n",
       "    </tr>\n",
       "    <tr>\n",
       "      <th>1</th>\n",
       "      <td>2008</td>\n",
       "      <td>Colombia</td>\n",
       "      <td>1839334</td>\n",
       "      <td>0.005980</td>\n",
       "      <td>0.493657</td>\n",
       "      <td>0.010874</td>\n",
       "      <td>0.00000</td>\n",
       "      <td>0.0</td>\n",
       "      <td>0.0</td>\n",
       "      <td>23.432834</td>\n",
       "      <td>...</td>\n",
       "      <td>0</td>\n",
       "      <td>8</td>\n",
       "      <td>0</td>\n",
       "      <td>0</td>\n",
       "      <td>9</td>\n",
       "      <td>0.475580</td>\n",
       "      <td>0.287916</td>\n",
       "      <td>2553.313095</td>\n",
       "      <td>20.001042</td>\n",
       "      <td>17.033807</td>\n",
       "    </tr>\n",
       "    <tr>\n",
       "      <th>2</th>\n",
       "      <td>2009</td>\n",
       "      <td>Colombia</td>\n",
       "      <td>1894391</td>\n",
       "      <td>0.001584</td>\n",
       "      <td>0.218012</td>\n",
       "      <td>0.009502</td>\n",
       "      <td>0.00000</td>\n",
       "      <td>0.0</td>\n",
       "      <td>0.0</td>\n",
       "      <td>23.803182</td>\n",
       "      <td>...</td>\n",
       "      <td>1</td>\n",
       "      <td>9</td>\n",
       "      <td>1</td>\n",
       "      <td>1</td>\n",
       "      <td>16</td>\n",
       "      <td>0.527427</td>\n",
       "      <td>0.329218</td>\n",
       "      <td>1812.452090</td>\n",
       "      <td>38.951077</td>\n",
       "      <td>17.033807</td>\n",
       "    </tr>\n",
       "    <tr>\n",
       "      <th>3</th>\n",
       "      <td>2010</td>\n",
       "      <td>Colombia</td>\n",
       "      <td>1937458</td>\n",
       "      <td>0.003097</td>\n",
       "      <td>8.036303</td>\n",
       "      <td>0.018065</td>\n",
       "      <td>0.00000</td>\n",
       "      <td>0.0</td>\n",
       "      <td>0.0</td>\n",
       "      <td>24.686513</td>\n",
       "      <td>...</td>\n",
       "      <td>2</td>\n",
       "      <td>19</td>\n",
       "      <td>2</td>\n",
       "      <td>2</td>\n",
       "      <td>22</td>\n",
       "      <td>0.499809</td>\n",
       "      <td>0.312449</td>\n",
       "      <td>2402.545373</td>\n",
       "      <td>45.657085</td>\n",
       "      <td>17.033807</td>\n",
       "    </tr>\n",
       "    <tr>\n",
       "      <th>4</th>\n",
       "      <td>2011</td>\n",
       "      <td>Colombia</td>\n",
       "      <td>1960132</td>\n",
       "      <td>0.003061</td>\n",
       "      <td>0.409156</td>\n",
       "      <td>0.005102</td>\n",
       "      <td>0.00051</td>\n",
       "      <td>0.0</td>\n",
       "      <td>0.0</td>\n",
       "      <td>23.795693</td>\n",
       "      <td>...</td>\n",
       "      <td>0</td>\n",
       "      <td>13</td>\n",
       "      <td>0</td>\n",
       "      <td>0</td>\n",
       "      <td>18</td>\n",
       "      <td>0.492869</td>\n",
       "      <td>0.322488</td>\n",
       "      <td>2430.899353</td>\n",
       "      <td>40.699944</td>\n",
       "      <td>17.033807</td>\n",
       "    </tr>\n",
       "  </tbody>\n",
       "</table>\n",
       "<p>5 rows × 23 columns</p>\n",
       "</div>"
      ],
      "text/plain": [
       "   Year   Country  Population  Cutaneous.Leishmaniasis    Dengue   Malaria  \\\n",
       "0  2007  Colombia     1801730                 0.000555  0.002775  0.002220   \n",
       "1  2008  Colombia     1839334                 0.005980  0.493657  0.010874   \n",
       "2  2009  Colombia     1894391                 0.001584  0.218012  0.009502   \n",
       "3  2010  Colombia     1937458                 0.003097  8.036303  0.018065   \n",
       "4  2011  Colombia     1960132                 0.003061  0.409156  0.005102   \n",
       "\n",
       "   Mucosal.Leishmaniasis  Visceral.Leishmaniasis  Yellow.Fever    LST_Day  \\\n",
       "0                0.00000                     0.0           0.0  24.086593   \n",
       "1                0.00000                     0.0           0.0  23.432834   \n",
       "2                0.00000                     0.0           0.0  23.803182   \n",
       "3                0.00000                     0.0           0.0  24.686513   \n",
       "4                0.00051                     0.0           0.0  23.795693   \n",
       "\n",
       "   ...  Dengue_Aeg_OptTemp  Chik_Alb_OptTemp  Chik_Aeg_OptTemp  Zika_OptTemp  \\\n",
       "0  ...                   0                14                 0             0   \n",
       "1  ...                   0                 8                 0             0   \n",
       "2  ...                   1                 9                 1             1   \n",
       "3  ...                   2                19                 2             2   \n",
       "4  ...                   0                13                 0             0   \n",
       "\n",
       "   Malaria_OptTemp      NDVI       EVI       Precip  StableLights  \\\n",
       "0               22  0.500981  0.304495  2087.610085     37.972903   \n",
       "1                9  0.475580  0.287916  2553.313095     20.001042   \n",
       "2               16  0.527427  0.329218  1812.452090     38.951077   \n",
       "3               22  0.499809  0.312449  2402.545373     45.657085   \n",
       "4               18  0.492869  0.322488  2430.899353     40.699944   \n",
       "\n",
       "   SWOccurrence  \n",
       "0     17.033807  \n",
       "1     17.033807  \n",
       "2     17.033807  \n",
       "3     17.033807  \n",
       "4     17.033807  \n",
       "\n",
       "[5 rows x 23 columns]"
      ]
     },
     "execution_count": 4,
     "metadata": {},
     "output_type": "execute_result"
    }
   ],
   "source": [
    "# read data set\n",
    "\n",
    "file = tf.keras.utils\n",
    "raw_df = pd.read_csv('https://raw.githubusercontent.com/tjsipin/MacDonald-REU-Summer-22/main/models/data/gap_inp_early_2.csv')\n",
    "raw_df.head()"
   ]
  },
  {
   "cell_type": "code",
   "execution_count": 5,
   "metadata": {},
   "outputs": [],
   "source": [
    "# thresh\n",
    "raw_df['Cutaneous.Leishmaniasis'].describe()\n",
    "\n",
    "# high vs. low thresh\n",
    "hlt = raw_df['Cutaneous.Leishmaniasis'].describe()[6]\n",
    "\n",
    "# Turned Cutaneous.Leishmaniasis to binary target (high vs. low)\n",
    "raw_df.loc[raw_df['Cutaneous.Leishmaniasis'] < hlt, 'Cutaneous.Leishmaniasis'] = 0\n",
    "raw_df.loc[raw_df['Cutaneous.Leishmaniasis'] > hlt, 'Cutaneous.Leishmaniasis'] = 1"
   ]
  },
  {
   "cell_type": "code",
   "execution_count": 6,
   "metadata": {},
   "outputs": [
    {
     "name": "stdout",
     "output_type": "stream",
     "text": [
      "Examples:\n",
      "      Total: 31887\n",
      "     Positive: 7972 (25.00% of total)\n",
      "\n"
     ]
    }
   ],
   "source": [
    "# examine class label imbalance\n",
    "neg, pos = np.bincount(raw_df['Cutaneous.Leishmaniasis'])\n",
    "total = neg + pos\n",
    "print('Examples:\\n      Total: {}\\n     Positive: {} ({:.2f}% of total)\\n'.format(\n",
    "    total, pos, 100 * pos / total\n",
    "))"
   ]
  },
  {
   "cell_type": "code",
   "execution_count": 7,
   "metadata": {},
   "outputs": [
    {
     "name": "stderr",
     "output_type": "stream",
     "text": [
      "/var/folders/nj/v28m9jyd30jc52dz2z8b2hrr0000gn/T/ipykernel_97648/540949080.py:3: FutureWarning: Dropping of nuisance columns in DataFrame reductions (with 'numeric_only=None') is deprecated; in a future version this will raise TypeError.  Select only valid columns before calling the reduction.\n",
      "  raw_df.std()\n"
     ]
    },
    {
     "data": {
      "text/plain": [
       "Year                            3.793120\n",
       "Population                 257081.430292\n",
       "Cutaneous.Leishmaniasis         0.433024\n",
       "Dengue                          8.199956\n",
       "Malaria                        36.558068\n",
       "Mucosal.Leishmaniasis           0.092123\n",
       "Visceral.Leishmaniasis          0.110532\n",
       "Yellow.Fever                    0.020812\n",
       "LST_Day                         3.253400\n",
       "LST_Night                       3.865745\n",
       "OptTemp_Obs                    10.466077\n",
       "Dengue_Alb_OptTemp              8.040556\n",
       "Dengue_Aeg_OptTemp              5.155187\n",
       "Chik_Alb_OptTemp                8.040556\n",
       "Chik_Aeg_OptTemp                5.155187\n",
       "Zika_OptTemp                    5.155187\n",
       "Malaria_OptTemp                 7.308774\n",
       "NDVI                            0.086126\n",
       "EVI                             0.066292\n",
       "Precip                        760.737413\n",
       "StableLights                    8.674027\n",
       "SWOccurrence                   23.073426\n",
       "dtype: float64"
      ]
     },
     "execution_count": 7,
     "metadata": {},
     "output_type": "execute_result"
    }
   ],
   "source": [
    "# summary of raw_df\n",
    "\n",
    "raw_df.std()"
   ]
  },
  {
   "cell_type": "code",
   "execution_count": 8,
   "metadata": {},
   "outputs": [],
   "source": [
    "cleaned_df = raw_df.copy()\n",
    "\n",
    "# Remove unwanted columns\n",
    "cleaned_df.drop(['Dengue','Malaria', 'Year', 'Mucosal.Leishmaniasis', 'Visceral.Leishmaniasis', 'Yellow.Fever'], axis = 1) # remove OptTemps?\n",
    "\n",
    "# Turn columns with high variance to log-space\n",
    "eps = 0.001\n",
    "cleaned_df['Log_Population'] = np.log(cleaned_df.pop('Population') + eps)\n",
    "# cleaned_df['Log_OptTemp_Obs'] = np.log(cleaned_df.pop('OptTemp_Obs') + eps)\n",
    "# cleaned_df['Log_Dengue_Alb_OptTemp'] = np.log(cleaned_df.pop('Dengue_Alb_OptTemp') + eps)\n",
    "# cleaned_df['Log_Chik_Alb_OptTemp'] = np.log(cleaned_df.pop('Chik_Alb_OptTemp') + eps)\n",
    "# cleaned_df['Log_Chik_Aeg_OptTemp'] = np.log(cleaned_df.pop('Chik_Aeg_OptTemp') + eps)\n",
    "# cleaned_df['Log_Zika_OptTemp'] = np.log(cleaned_df.pop('Zika_OptTemp') + eps)\n",
    "# cleaned_df['Log_Malaria_OptTemp'] = np.log(cleaned_df.pop('Malaria_OptTemp') + eps)\n",
    "# Do this for every std greater than 1?\n",
    "\n",
    "cleaned_df['Log_Precip'] = np.log(cleaned_df.pop('Precip') + eps)\n",
    "\n",
    "cleaned_df = pd.get_dummies(cleaned_df)\n",
    "\n"
   ]
  },
  {
   "cell_type": "code",
   "execution_count": 9,
   "metadata": {},
   "outputs": [],
   "source": [
    "# Use a utility from sklearn to split and shuffle your data set\n",
    "train_df, test_df = train_test_split(cleaned_df, test_size=0.2)\n",
    "train_df, val_df = train_test_split(train_df, test_size=0.2)\n",
    "\n",
    "# Form np arrays of labels and features\n",
    "train_labels = np.array(train_df.pop('Cutaneous.Leishmaniasis'))\n",
    "bool_train_labels = train_labels != 0\n",
    "val_labels = np.array(val_df.pop('Cutaneous.Leishmaniasis'))\n",
    "test_labels = np.array(test_df.pop('Cutaneous.Leishmaniasis'))\n",
    "\n",
    "train_features = np.array(train_df)\n",
    "val_features = np.array(val_df)\n",
    "test_features = np.array(test_df)"
   ]
  },
  {
   "cell_type": "code",
   "execution_count": 10,
   "metadata": {},
   "outputs": [
    {
     "name": "stdout",
     "output_type": "stream",
     "text": [
      "Training labels shape: (20407,)\n",
      "Validation labels shape: (5102,)\n",
      "Testing labels shape: (6378,)\n",
      "Training features shape: (20407, 24)\n",
      "Validation features shape: (5102, 24)\n",
      "Testing features shape: (6378, 24)\n"
     ]
    }
   ],
   "source": [
    "# Normalize input features using sklearn StandardScaler (set mean to 0 and std to 1)\n",
    "scaler = StandardScaler()\n",
    "\n",
    "train_features = scaler.fit_transform(train_features) \n",
    "\n",
    "# Note: the StandardScaler is only fit using the train_features to be sure the model isn't peeking at the validation or test sets\n",
    "\n",
    "val_features = scaler.transform(val_features)\n",
    "test_features = scaler.transform(test_features)\n",
    "\n",
    "train_features = np.clip(train_features, -5, 5)\n",
    "val_features = np.clip(val_features, -5, 5)\n",
    "test_features = np.clip(test_features, -5, 5)\n",
    "\n",
    "print('Training labels shape:', train_labels.shape)\n",
    "print('Validation labels shape:', val_labels.shape)\n",
    "print('Testing labels shape:', test_labels.shape)\n",
    "\n",
    "print('Training features shape:', train_features.shape)\n",
    "print('Validation features shape:', val_features.shape)\n",
    "print('Testing features shape:', test_features.shape)\n"
   ]
  },
  {
   "cell_type": "code",
   "execution_count": 11,
   "metadata": {},
   "outputs": [
    {
     "data": {
      "text/plain": [
       "Text(0.5, 0.98, 'Negative distribution')"
      ]
     },
     "execution_count": 11,
     "metadata": {},
     "output_type": "execute_result"
    },
    {
     "data": {
      "image/png": "[encoded data removed]",
      "text/plain": [
       "<Figure size 432x432 with 3 Axes>"
      ]
     },
     "metadata": {
      "needs_background": "light"
     },
     "output_type": "display_data"
    },
    {
     "data": {
      "image/png": "[encoded data removed]",
      "text/plain": [
       "<Figure size 432x432 with 3 Axes>"
      ]
     },
     "metadata": {
      "needs_background": "light"
     },
     "output_type": "display_data"
    }
   ],
   "source": [
    "# Look at data distribution\n",
    "pos_df = pd.DataFrame(\n",
    "    train_features[bool_train_labels], columns=train_df.columns)\n",
    "neg_df = pd.DataFrame(\n",
    "    train_features[~bool_train_labels], columns=train_df.columns)\n",
    "\n",
    "sns.jointplot(x=pos_df['Log_Precip'],\n",
    "              y=pos_df['StableLights'],\n",
    "              kind='hex',\n",
    "              xlim=(-5,5),\n",
    "              ylim=(-5,5))\n",
    "plt.suptitle(\"Positive distribution\")\n",
    "\n",
    "sns.jointplot(x=neg_df['Log_Precip'],\n",
    "              y=neg_df['StableLights'],\n",
    "              kind='hex',\n",
    "              xlim=(-5,5),\n",
    "              ylim=(-5,5))\n",
    "plt.suptitle(\"Negative distribution\")\n"
   ]
  },
  {
   "cell_type": "markdown",
   "metadata": {},
   "source": [
    "## Define the model and metrics\n",
    "Define a function that creates a simple neural network with a densely connected hidden layer, a dropout layer to *reduce overfitting*, and an output sigmoid layer that returns the probability of a municipality being high risk of having high cutaneous leishmaniasis cases."
   ]
  },
  {
   "cell_type": "code",
   "execution_count": 12,
   "metadata": {},
   "outputs": [
    {
     "name": "stdout",
     "output_type": "stream",
     "text": [
      "Metal device set to: Apple M1\n",
      "\n",
      "systemMemory: 8.00 GB\n",
      "maxCacheSize: 2.67 GB\n",
      "\n"
     ]
    },
    {
     "name": "stderr",
     "output_type": "stream",
     "text": [
      "2022-07-12 12:05:16.441145: I tensorflow/core/common_runtime/pluggable_device/pluggable_device_factory.cc:305] Could not identify NUMA node of platform GPU ID 0, defaulting to 0. Your kernel may not have been built with NUMA support.\n",
      "2022-07-12 12:05:16.442337: I tensorflow/core/common_runtime/pluggable_device/pluggable_device_factory.cc:271] Created TensorFlow device (/job:localhost/replica:0/task:0/device:GPU:0 with 0 MB memory) -> physical PluggableDevice (device: 0, name: METAL, pci bus id: <undefined>)\n"
     ]
    }
   ],
   "source": [
    "\n",
    "\n",
    "# Define the model and metrics\n",
    "METRICS = [\n",
    "    keras.metrics.TruePositives(name='tp'),\n",
    "    keras.metrics.FalsePositives(name='fp'),\n",
    "    keras.metrics.TrueNegatives(name='tn'),\n",
    "    keras.metrics.FalseNegatives(name='fn'),\n",
    "    keras.metrics.BinaryAccuracy(name='accuracy'),\n",
    "    keras.metrics.Precision(name='precision'),\n",
    "    keras.metrics.Recall(name='recall'),\n",
    "    keras.metrics.AUC(name='auc'),\n",
    "    keras.metrics.AUC(name='prc', curve='PR')  # precision-recall curve\n",
    "]\n",
    "\n",
    "\n",
    "def make_model(metrics=METRICS, output_bias=None):\n",
    "    if output_bias is not None:\n",
    "        output_bias = tf.keras.initializers.Constant(output_bias)\n",
    "    model = keras.Sequential([\n",
    "        keras.layers.Dense(\n",
    "            16, activation='relu',\n",
    "            input_shape=(train_features.shape[-1],)),\n",
    "        keras.layers.Dropout(0.5),\n",
    "        keras.layers.Dense(1, activation='sigmoid',\n",
    "                           bias_initializer=output_bias),\n",
    "    ])\n",
    "\n",
    "    model.compile(\n",
    "        optimizer=keras.optimizers.Adam(learning_rate=1e-3),\n",
    "        loss=keras.losses.BinaryCrossentropy(),\n",
    "        metrics=metrics\n",
    "    )\n",
    "\n",
    "    return model"
   ]
  },
  {
   "cell_type": "markdown",
   "metadata": {},
   "source": [
    "## Baseline model\n",
    "### Building the model\n",
    "**Note:** This model won't handle the class imbalance well. This will be imporved later.\n",
    "\n",
    "We create and train the model using the function defined earlier. Notice that the model is fit usinga  larger than default batch size of 2048. This is important as it ensures that each batch has a decent chance of containing a few positive samples. If the batch size is too small, then there will likely have no positives to learn from."
   ]
  },
  {
   "cell_type": "code",
   "execution_count": 13,
   "metadata": {},
   "outputs": [
    {
     "name": "stdout",
     "output_type": "stream",
     "text": [
      "Model: \"sequential\"\n",
      "_________________________________________________________________\n",
      " Layer (type)                Output Shape              Param #   \n",
      "=================================================================\n",
      " dense (Dense)               (None, 16)                400       \n",
      "                                                                 \n",
      " dropout (Dropout)           (None, 16)                0         \n",
      "                                                                 \n",
      " dense_1 (Dense)             (None, 1)                 17        \n",
      "                                                                 \n",
      "=================================================================\n",
      "Total params: 417\n",
      "Trainable params: 417\n",
      "Non-trainable params: 0\n",
      "_________________________________________________________________\n"
     ]
    }
   ],
   "source": [
    "EPOCHS = 100\n",
    "BATCH_SIZE = 2048\n",
    "\n",
    "early_stopping = tf.keras.callbacks.EarlyStopping(\n",
    "    monitor = 'val_prc',\n",
    "    verbose = 1,\n",
    "    patience = 10,\n",
    "    mode = 'max',\n",
    "    restore_best_weights = True\n",
    ")\n",
    "\n",
    "model = make_model()\n",
    "model.summary()\n"
   ]
  },
  {
   "cell_type": "code",
   "execution_count": null,
   "metadata": {},
   "outputs": [],
   "source": []
  }
 ],
 "metadata": {
  "kernelspec": {
   "display_name": "Python 3.9.13 ('base')",
   "language": "python",
   "name": "python3"
  },
  "language_info": {
   "codemirror_mode": {
    "name": "ipython",
    "version": 3
   },
   "file_extension": ".py",
   "mimetype": "text/x-python",
   "name": "python",
   "nbconvert_exporter": "python",
   "pygments_lexer": "ipython3",
   "version": "3.9.13"
  },
  "orig_nbformat": 4,
  "vscode": {
   "interpreter": {
    "hash": "9e2849618c08013751c1bb5115ce1922ab737dd1ec0171c8a5a7f0521b8bd085"
   }
  }
 },
 "nbformat": 4,
 "nbformat_minor": 2
}
